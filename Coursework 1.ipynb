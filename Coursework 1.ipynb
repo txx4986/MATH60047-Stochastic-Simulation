{
 "cells": [
  {
   "cell_type": "markdown",
   "id": "5043a25d",
   "metadata": {},
   "source": [
    "## Q1: Sampling from Chi-Squared using Rejection Sampling"
   ]
  },
  {
   "cell_type": "code",
   "execution_count": 2,
   "id": "5fa313dc",
   "metadata": {},
   "outputs": [],
   "source": [
    "import numpy as np\n",
    "import matplotlib.pyplot as plt"
   ]
  },
  {
   "cell_type": "code",
   "execution_count": 13,
   "id": "d4427372",
   "metadata": {},
   "outputs": [],
   "source": [
    "def p(x, nu):\n",
    "    return x ** (nu / 2 - 1) * np.exp(-x / 2) / (2 ** (nu / 2) * np.math.factorial(int(nu / 2) - 1))\n",
    "\n",
    "def q(x, lam):\n",
    "    return lam * np.exp(-lam * x)\n",
    "\n",
    "nu = 4\n",
    "lam = 1 / nu\n",
    "M = nu ** (nu / 2) * np.exp(-nu / 2 + 1) / (2 ** (nu / 2) * np.math.factorial(int(nu / 2) - 1))\n",
    "\n",
    "n = 100000\n",
    "x_accepted = np.array([])\n",
    "count = 0\n",
    "\n",
    "for i in range(n):\n",
    "    u_1 = np.random.uniform(0, 1)\n",
    "    x_proposed = -(1/lam) * np.log(1 - u_1)\n",
    "    a = p(x_proposed, nu) / (M * q(x_proposed, lam))\n",
    "    u_2 = np.random.uniform(0, 1)\n",
    "    if u_2 <= a:\n",
    "        x_accepted = np.append(x_accepted, x_proposed)\n",
    "        count += 1"
   ]
  },
  {
   "cell_type": "code",
   "execution_count": 14,
   "id": "7920a4f2",
   "metadata": {},
   "outputs": [
    {
     "data": {
      "image/png": "[encoded data removed]",
      "text/plain": [
       "<Figure size 432x288 with 1 Axes>"
      ]
     },
     "metadata": {
      "needs_background": "light"
     },
     "output_type": "display_data"
    }
   ],
   "source": [
    "xx = np.linspace(0, 30, 1000)\n",
    "chi_squared_density = xx ** (nu / 2 - 1) * np.exp(-xx / 2) / (2 ** (nu / 2) * np.math.factorial(int(nu / 2) - 1))\n",
    "M_q_density = M * lam * np.exp(-lam * xx)\n",
    "plt.hist(x_accepted, bins=100, density=True, rwidth=0.8, color='r', alpha=0.5)\n",
    "plt.plot(xx, chi_squared_density, 'k-', label='p_ν(x)')\n",
    "plt.plot(xx, M_q_density, 'b-', label='M*q_λ(x)')\n",
    "plt.legend()\n",
    "plt.show()"
   ]
  },
  {
   "cell_type": "code",
   "execution_count": 15,
   "id": "8dfd0aa9",
   "metadata": {},
   "outputs": [
    {
     "data": {
      "text/plain": [
       "-0.00040045711476122126"
      ]
     },
     "execution_count": 15,
     "metadata": {},
     "output_type": "execute_result"
    }
   ],
   "source": [
    "a_hat = 1 / M\n",
    "a = count / n\n",
    "a - a_hat"
   ]
  },
  {
   "cell_type": "markdown",
   "id": "591f1ec0",
   "metadata": {},
   "source": [
    "## Q2: Sample from a Mixture of Chi-Squared"
   ]
  },
  {
   "cell_type": "code",
   "execution_count": 5,
   "id": "b386b71d",
   "metadata": {},
   "outputs": [],
   "source": [
    "def chi_squared_sample(nu, n):\n",
    "    lam = 1 / nu\n",
    "    M = nu ** (nu / 2) * np.exp(-nu / 2 + 1) / (2 ** (nu / 2) * np.math.factorial(int(nu / 2) - 1))\n",
    "    x_accepted = np.array([])\n",
    "    while len(x_accepted) < n:\n",
    "        u_1 = np.random.uniform(0, 1)\n",
    "        x_proposed = -(1/lam) * np.log(1 - u_1)\n",
    "        a = p(x_proposed, nu) / (M * q(x_proposed, lam))\n",
    "        u_2 = np.random.uniform(0, 1)\n",
    "        if u_2 <= a:\n",
    "            x_accepted = np.append(x_accepted, x_proposed)\n",
    "    return x_accepted"
   ]
  },
  {
   "cell_type": "code",
   "execution_count": 6,
   "id": "f839f6e3",
   "metadata": {},
   "outputs": [],
   "source": [
    "def discrete(w, s):\n",
    "    cw = np.cumsum(w)\n",
    "    u = np.random.uniform(0, 1)\n",
    "    for k in range(len(cw)):\n",
    "        if cw[k] > u:\n",
    "            discrete_sample = s[k]\n",
    "            break\n",
    "    return discrete_sample\n",
    "\n",
    "w = np.array([0.2, 0.5, 0.3])\n",
    "s = np.array([0, 1, 2])\n",
    "nu = np.array([4, 16, 40])\n",
    "\n",
    "n = 100000\n",
    "sample = np.array([])\n",
    "\n",
    "for i in range(n):\n",
    "    discrete_sample = discrete(w, s)\n",
    "    x = chi_squared_sample(nu[discrete_sample], 1)\n",
    "    sample = np.append(sample, x)"
   ]
  },
  {
   "cell_type": "code",
   "execution_count": 7,
   "id": "df8f62f8",
   "metadata": {},
   "outputs": [
    {
     "data": {
      "image/png": "[encoded data removed]",
      "text/plain": [
       "<Figure size 432x288 with 1 Axes>"
      ]
     },
     "metadata": {
      "needs_background": "light"
     },
     "output_type": "display_data"
    }
   ],
   "source": [
    "def mixture_density(x, w, nu):\n",
    "    return w[0] * p(x, nu[0]) + w[1] * p(x, nu[1]) + w[2] * p(x, nu[2])\n",
    "\n",
    "xx = np.linspace(0, 80, 1000)\n",
    "plt.plot(xx, mixture_density(xx, w, nu), color='k', linewidth=2)\n",
    "plt.hist(sample, bins=100, density=True, rwidth=0.8, color='r', alpha=0.5)\n",
    "plt.show()"
   ]
  },
  {
   "cell_type": "code",
   "execution_count": null,
   "id": "83171908",
   "metadata": {},
   "outputs": [],
   "source": []
  }
 ],
 "metadata": {
  "@webio": {
   "lastCommId": null,
   "lastKernelId": null
  },
  "kernelspec": {
   "display_name": "Python 3",
   "language": "python",
   "name": "python3"
  },
  "language_info": {
   "codemirror_mode": {
    "name": "ipython",
    "version": 3
   },
   "file_extension": ".py",
   "mimetype": "text/x-python",
   "name": "python",
   "nbconvert_exporter": "python",
   "pygments_lexer": "ipython3",
   "version": "3.8.8"
  }
 },
 "nbformat": 4,
 "nbformat_minor": 5
}
